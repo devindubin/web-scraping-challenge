{
 "metadata": {
  "language_info": {
   "codemirror_mode": {
    "name": "ipython",
    "version": 3
   },
   "file_extension": ".py",
   "mimetype": "text/x-python",
   "name": "python",
   "nbconvert_exporter": "python",
   "pygments_lexer": "ipython3",
   "version": "3.6.10-final"
  },
  "orig_nbformat": 2,
  "kernelspec": {
   "name": "python3",
   "display_name": "Python 3"
  }
 },
 "nbformat": 4,
 "nbformat_minor": 2,
 "cells": [
  {
   "cell_type": "code",
   "execution_count": 29,
   "metadata": {},
   "outputs": [],
   "source": [
    "from splinter import Browser\n",
    "from bs4 import BeautifulSoup\n",
    "import time\n",
    "import pandas as pd\n",
    "from pprint import pprint"
   ]
  },
  {
   "cell_type": "code",
   "execution_count": 2,
   "metadata": {},
   "outputs": [],
   "source": [
    "executable_path = {\"executable_path\":\"chromedriver.exe\"}\n",
    "\n",
    "browser = Browser('chrome',**executable_path,headless = False)"
   ]
  },
  {
   "cell_type": "code",
   "execution_count": 3,
   "metadata": {},
   "outputs": [],
   "source": []
  },
  {
   "cell_type": "code",
   "execution_count": 21,
   "metadata": {},
   "outputs": [],
   "source": [
    "###########\n",
    "#Step 1.1: NASA Mars News\n",
    "###########\n",
    "url = 'https://mars.nasa.gov/news/'\n",
    "browser.visit(url)\n",
    "\n",
    "html = browser.html\n",
    "\n",
    "soup = BeautifulSoup(html,'html.parser')\n",
    "\n",
    "art_title = soup.find('ul',class_ = 'item_list').find('div',class_='content_title').text\n",
    "\n",
    "art_teaser = soup.find('div',class_ = \"article_teaser_body\").text\n",
    "\n",
    "# print(art_title)\n",
    "\n",
    "#print(art_teaser)"
   ]
  },
  {
   "cell_type": "code",
   "execution_count": 88,
   "metadata": {},
   "outputs": [],
   "source": [
    "###########\n",
    "#Step 1.2: JPL Mars Space Images - Featured Image\n",
    "###########\n",
    "\n",
    "url = 'https://www.jpl.nasa.gov/spaceimages/?search=&category=Mars'\n",
    "browser.visit(url)\n",
    "\n",
    "time.sleep(1)\n",
    "browser.find_by_id(\"full_image\").click()\n",
    "time.sleep(1)\n",
    "browser.links.find_by_partial_text(\"more info\").click()\n",
    "time.sleep(1)\n",
    "browser.find_by_css('.main_image').click()\n",
    "time.sleep(1)\n",
    "\n",
    "\n",
    "html = browser.html\n",
    "\n",
    "soup = BeautifulSoup(html,'html.parser')\n",
    "\n",
    "featured_image_url = soup.find('img')['src']\n",
    "#print(featured_image_url)\n"
   ]
  },
  {
   "cell_type": "code",
   "execution_count": 191,
   "metadata": {},
   "outputs": [],
   "source": [
    "#########\n",
    "#Step 1.3: Mars Facts\n",
    "#########\n",
    "url = 'https://space-facts.com/mars/'\n",
    "ht_read = pd.read_html(url)[0].to_html()\n",
    "#pprint(ht_read)"
   ]
  },
  {
   "cell_type": "code",
   "execution_count": 31,
   "metadata": {},
   "outputs": [
    {
     "output_type": "stream",
     "name": "stdout",
     "text": [
      "[{'img_url': 'https://astropedia.astrogeology.usgs.gov/download/Mars/Viking/cerberus_enhanced.tif/full.jpg',\n  'title': 'Cerberus Hemisphere Enhanced'},\n {'img_url': 'https://astropedia.astrogeology.usgs.gov/download/Mars/Viking/schiaparelli_enhanced.tif/full.jpg',\n  'title': 'Schiaparelli Hemisphere Enhanced'},\n {'img_url': 'https://astropedia.astrogeology.usgs.gov/download/Mars/Viking/syrtis_major_enhanced.tif/full.jpg',\n  'title': 'Syrtis Major Hemisphere Enhanced'},\n {'img_url': 'https://astropedia.astrogeology.usgs.gov/download/Mars/Viking/valles_marineris_enhanced.tif/full.jpg',\n  'title': 'Valles Marineris Hemisphere Enhanced'}]\n"
     ]
    }
   ],
   "source": [
    "##########\n",
    "#Step 1.4: Mars Hemispheres\n",
    "##########\n",
    "url = 'https://astrogeology.usgs.gov/search/results?q=hemisphere+enhanced&k1=target&v1=Mars'\n",
    "\n",
    "browser.visit(url)\n",
    "\n",
    "html = browser.html\n",
    "\n",
    "\n",
    "soup = BeautifulSoup(html,'html.parser')\n",
    "\n",
    "hemi_names = [_.text for _ in soup.find_all('h3')]\n",
    "hemisphere_image_urls = []\n",
    "\n",
    "for name in hemi_names:\n",
    "    browser.click_link_by_partial_text(name)\n",
    "    time.sleep(2)\n",
    "    soup = BeautifulSoup(browser.html,'html.parser')\n",
    "\n",
    "    link = soup.find(string='Sample').parent['href']\n",
    "\n",
    "    hemisphere_image_urls.append({\"title\":name,\"img_url\":link})\n",
    "    time.sleep(2)\n",
    "    browser.back()\n",
    "    time.sleep(2)\n",
    "\n",
    "pprint(hemisphere_image_urls)"
   ]
  },
  {
   "cell_type": "code",
   "execution_count": null,
   "metadata": {},
   "outputs": [],
   "source": []
  },
  {
   "cell_type": "code",
   "execution_count": null,
   "metadata": {},
   "outputs": [],
   "source": []
  }
 ]
}